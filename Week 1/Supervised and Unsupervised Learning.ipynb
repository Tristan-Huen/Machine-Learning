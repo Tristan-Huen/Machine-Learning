{
 "cells": [
  {
   "cell_type": "markdown",
   "id": "4cb83062",
   "metadata": {},
   "source": [
    "# Supervised and Unsupervised Learning"
   ]
  },
  {
   "cell_type": "markdown",
   "id": "9a181189",
   "metadata": {},
   "source": [
    "__Supervised Learning__: Algorithms that learn input to output mappings. Key characteristic is that they learn from \"right\" answers."
   ]
  },
  {
   "cell_type": "markdown",
   "id": "934e6251",
   "metadata": {},
   "source": [
    "## Types of Supervised Learning\n",
    "- Regression: Predict a number out of infinitely many possible outputs\n",
    "\n",
    "- Classification: Predict categories/classes. Can be numeric or non-numeric. Only predicts a small number of possible outputs"
   ]
  },
  {
   "cell_type": "markdown",
   "id": "ddb6b4ea",
   "metadata": {},
   "source": [
    "__Unsupervised Learning__: Data only has inputs $x$ but no output labels $y$. Algorithm has to find structure or patterns in the data"
   ]
  },
  {
   "cell_type": "markdown",
   "id": "6eda1376",
   "metadata": {},
   "source": [
    "## Types of Unsupervised Learning\n",
    "- Clustering: Groups similar data points together\n",
    "- Anomaly Detection: Find unusual data points\n",
    "- Dimensionality Reduction: Compress data using fewer numbers"
   ]
  },
  {
   "cell_type": "code",
   "execution_count": null,
   "id": "0313ad48",
   "metadata": {},
   "outputs": [],
   "source": []
  }
 ],
 "metadata": {
  "kernelspec": {
   "display_name": "Python 3 (ipykernel)",
   "language": "python",
   "name": "python3"
  },
  "language_info": {
   "codemirror_mode": {
    "name": "ipython",
    "version": 3
   },
   "file_extension": ".py",
   "mimetype": "text/x-python",
   "name": "python",
   "nbconvert_exporter": "python",
   "pygments_lexer": "ipython3",
   "version": "3.10.1"
  }
 },
 "nbformat": 4,
 "nbformat_minor": 5
}
