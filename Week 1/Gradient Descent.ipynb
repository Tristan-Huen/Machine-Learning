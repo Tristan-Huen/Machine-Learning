{
 "cells": [
  {
   "cell_type": "markdown",
   "id": "59a07d0b",
   "metadata": {},
   "source": [
    "# Gradient Descent"
   ]
  },
  {
   "cell_type": "markdown",
   "id": "b9c686b1",
   "metadata": {},
   "source": [
    "An algorithm that can be used to minimize any cost function. First start off with some initial $w$ and $b$ (in linear regression this does not matter too much and both can be 0), then keep changing $w$ and $b$ to reduce $J(w,b)$ until we settle at or near a minimum (not guaranteed a global minimum). Gradient descent gives the direction of steepest descent."
   ]
  },
  {
   "cell_type": "markdown",
   "id": "b1af7497",
   "metadata": {},
   "source": [
    "## Implementation"
   ]
  },
  {
   "cell_type": "markdown",
   "id": "dc65ac7d",
   "metadata": {},
   "source": [
    "We can write the following implementation of the idea\n",
    "\n",
    "\\begin{align}\n",
    "&\\theta_j := \\theta_j - \\alpha \\frac{\\partial J(\\theta)}{\\partial \\theta_j} \\\\[6pt]\n",
    "\\end{align}\n",
    "\n",
    "where $\\alpha$ is called the learning rate and controls the step size of the descent. It is usually a small quantity. As a sidenote, both parameters must be updated simultaneously when coding. If we compute the partial derivatives using our squared error cost function we get\n",
    "\n",
    "\\begin{align}\n",
    "\\frac{\\partial J(\\theta)}{\\partial\\theta_j} = \\frac{1}{m}\\sum_{i=1}^{m}\\left(h_{\\theta}(x^{(i)})-y^{(i)}\\right)x_{j}^{(i)} \\\\[6pt]\n",
    "\\end{align}\n",
    "\n",
    "which turns our resulting algorithm into\n",
    "\n",
    "\\begin{align}\n",
    "&\\theta_j := \\theta_j - \\frac{\\alpha}{m}\\sum_{i=1}^{m}\\left(h_{\\theta}(x^{(i)})-y^{(i)}\\right)x^{(i)} \\\\[6pt]\n",
    "\\end{align}\n",
    "\n",
    "With a squared error cost function we are guaranteed only one minima since it is a convex function. This kind of gradient descent where the whole training set is used is called batch gradient descent. Other gradient descents may use only subsets of the training data."
   ]
  },
  {
   "cell_type": "markdown",
   "id": "3e586578",
   "metadata": {},
   "source": [
    "## Code Example"
   ]
  },
  {
   "cell_type": "markdown",
   "id": "f4ab52fa-6cd0-4918-a1a4-6a5a226976de",
   "metadata": {},
   "source": [
    "Note that the following uses $w=\\theta_1$ and $b=\\theta_0$"
   ]
  },
  {
   "cell_type": "code",
   "execution_count": 5,
   "id": "90b2f005",
   "metadata": {},
   "outputs": [],
   "source": [
    "import math, copy\n",
    "import numpy as np\n",
    "import matplotlib.pyplot as plt"
   ]
  },
  {
   "cell_type": "markdown",
   "id": "a2e686d8",
   "metadata": {},
   "source": [
    "Consider the following dataset"
   ]
  },
  {
   "cell_type": "code",
   "execution_count": 6,
   "id": "9de25efa",
   "metadata": {},
   "outputs": [],
   "source": [
    "# Load our data set\n",
    "x_train = np.array([1.0, 2.0])   #features\n",
    "y_train = np.array([300.0, 500.0])   #target value"
   ]
  },
  {
   "cell_type": "markdown",
   "id": "d346de5d",
   "metadata": {},
   "source": [
    "### Cost Function"
   ]
  },
  {
   "cell_type": "code",
   "execution_count": 7,
   "id": "0d10980f",
   "metadata": {},
   "outputs": [],
   "source": [
    "#Function to calculate the cost\n",
    "def compute_cost(x, y, w, b):\n",
    "   \n",
    "    m = len(x)\n",
    "    cost = 0\n",
    "    \n",
    "    for i in range(m):\n",
    "        f_wb = w * x[i] + b\n",
    "        cost = cost + (f_wb - y[i])**2\n",
    "    total_cost = 1 / (2 * m) * cost\n",
    "\n",
    "    return total_cost"
   ]
  },
  {
   "cell_type": "markdown",
   "id": "923d2fe7",
   "metadata": {},
   "source": [
    "### Gradient Function"
   ]
  },
  {
   "cell_type": "code",
   "execution_count": 8,
   "id": "953cac52",
   "metadata": {},
   "outputs": [],
   "source": [
    "def compute_gradient(x, y, w, b): \n",
    "    \n",
    "    m = len(x)   \n",
    "    dj_dw = 0\n",
    "    dj_db = 0\n",
    "    \n",
    "    for i in range(m):  \n",
    "        f_wb = w * x[i] + b \n",
    "        err = f_wb - y[i]\n",
    "        dj_dw_i = err * x[i] \n",
    "        dj_db_i = err \n",
    "        dj_db += dj_db_i\n",
    "        dj_dw += dj_dw_i \n",
    "    dj_dw = dj_dw / m \n",
    "    dj_db = dj_db / m \n",
    "        \n",
    "    return dj_dw, dj_db"
   ]
  },
  {
   "cell_type": "markdown",
   "id": "2d1b064c",
   "metadata": {},
   "source": [
    "### Gradient Descent"
   ]
  },
  {
   "cell_type": "code",
   "execution_count": 9,
   "id": "2aa04286",
   "metadata": {},
   "outputs": [],
   "source": [
    "def gradient_descent(x, y, w_in, b_in, alpha, num_iters, cost_function, gradient_function):\n",
    "    b = b_in\n",
    "    w = w_in\n",
    "    \n",
    "    for i in range(num_iters):\n",
    "        dj_dw, dj_db = gradient_function(x, y, w, b)\n",
    "        \n",
    "        b = b - alpha * dj_db                            \n",
    "        w = w - alpha * dj_dw\n",
    "        \n",
    "    return w, b,"
   ]
  },
  {
   "cell_type": "code",
   "execution_count": 10,
   "id": "9fb055e2",
   "metadata": {},
   "outputs": [
    {
     "name": "stdout",
     "output_type": "stream",
     "text": [
      "(w,b) found by gradient descent: (199.9929,100.0116)\n"
     ]
    },
    {
     "data": {
      "image/png": "[encoded data removed]",
      "text/plain": [
       "<Figure size 432x288 with 1 Axes>"
      ]
     },
     "metadata": {
      "needs_background": "light"
     },
     "output_type": "display_data"
    }
   ],
   "source": [
    "# initialize parameters\n",
    "w_init = 0\n",
    "b_init = 0\n",
    "iterations = 10000\n",
    "tmp_alpha = 1.0e-2\n",
    "\n",
    "\n",
    "w_final, b_final = gradient_descent(x_train ,y_train, w_init, b_init, tmp_alpha, \n",
    "                                                    iterations, compute_cost, compute_gradient)\n",
    "print(f\"(w,b) found by gradient descent: ({w_final:8.4f},{b_final:8.4f})\")\n",
    "\n",
    "f_wb = np.zeros(len(x_train))\n",
    "for i in range(len(x_train)):\n",
    "    f_wb[i] = w_final * x_train[i] + b_final\n",
    "\n",
    "\n",
    "plt.plot(x_train, f_wb, c='b',label='Gradient Descent Prediction')\n",
    "\n",
    "# Plot the data points\n",
    "plt.scatter(x_train, y_train, marker='x', c='r',label='Actual Values')\n",
    "plt.legend()\n",
    "plt.show()"
   ]
  },
  {
   "cell_type": "code",
   "execution_count": null,
   "id": "19d2fbaa",
   "metadata": {},
   "outputs": [],
   "source": []
  }
 ],
 "metadata": {
  "kernelspec": {
   "display_name": "Python 3 (ipykernel)",
   "language": "python",
   "name": "python3"
  },
  "language_info": {
   "codemirror_mode": {
    "name": "ipython",
    "version": 3
   },
   "file_extension": ".py",
   "mimetype": "text/x-python",
   "name": "python",
   "nbconvert_exporter": "python",
   "pygments_lexer": "ipython3",
   "version": "3.10.1"
  }
 },
 "nbformat": 4,
 "nbformat_minor": 5
}
