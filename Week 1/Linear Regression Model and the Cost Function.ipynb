{
 "cells": [
  {
   "cell_type": "markdown",
   "id": "8f9a6d00",
   "metadata": {},
   "source": [
    "# Linear Regression Model and the Cost Function"
   ]
  },
  {
   "cell_type": "markdown",
   "id": "98bcc537",
   "metadata": {},
   "source": [
    "- Training Set: Data used to train the model\n",
    "- Notation: \n",
    "    - $x$ = \"input\" variable or feature\n",
    "    - $y$ = \"input\"/\"target\" variable \n",
    "    - $m$ = number of training examples\n",
    "    - $(x,y)$ = single training example\n",
    "    - $(x^{(i)},y^{(i)})$ = i$^{\\text{th}}$ training example"
   ]
  },
  {
   "cell_type": "markdown",
   "id": "9a9e6ebb",
   "metadata": {},
   "source": [
    "Train model by feeding the training set to the learning algorithm which produces some function $h$ (the model or hypothesis). $h$ takes in $x$ (feature) and produces prediction $\\hat{y}$. To represent $f$ we write $h_{\\theta}(x)=\\theta_0 + \\theta_1 x$ (note can be shortened to $h(x)$) where the $\\theta_i$ are numbers called parameters or weights . This is linear regression with one variable also known as univariate linear regression. We will write our hypothesis as $h_{\\theta}(x)=\\theta_0 x_0 + \\theta_1 x_1$ where $x_0 = 1$"
   ]
  },
  {
   "cell_type": "markdown",
   "id": "43fb0571",
   "metadata": {},
   "source": [
    "## Cost Function"
   ]
  },
  {
   "cell_type": "markdown",
   "id": "7decc8bc",
   "metadata": {},
   "source": [
    "We must find values for these parameters that minimizes the error between $y^{(i)}$ and $\\hat{y}^{(i)}$. This error is $\\hat{y}^{(i)}-y^{(i)}$ and we can compute the squared error as $\\left(\\hat{y}^{(i)}-y^{(i)}\\right)^2$ and sum them up. Additionally, we will take the average of this sum so that the cost function does not get bigger as $m$ gets bigger and also divide it by 2 as a convention (partial derivative of cost function allows it to cancel). We write\n",
    "\n",
    "$$J(\\theta)=\\frac{1}{2m}\\sum_{i=1}^{m} \\left(\\hat{y}^{(i)}-y^{(i)}\\right)^2$$\n",
    "\n",
    "Which is the squared error cost function. Many other cost functions exist. We can also rewrite this with $h$ as\n",
    "\n",
    "$$J(\\theta)=\\frac{1}{2m}\\sum_{i=1}^{m} \\left(h_\\theta(x^{(i)})-y^{(i)}\\right)^2$$\n",
    "\n",
    "So, we want to find values of $\\theta_0$ and $\\theta_1$ that minimize the cost function (the goal) which can be written as\n",
    "\n",
    "$$\\underset{\\theta}{\\text{arg min}} \\, J(\\theta)$$"
   ]
  },
  {
   "cell_type": "markdown",
   "id": "a69528e2",
   "metadata": {},
   "source": [
    "One can see that equation creates a paraboloid in 3D space."
   ]
  }
 ],
 "metadata": {
  "kernelspec": {
   "display_name": "Python 3 (ipykernel)",
   "language": "python",
   "name": "python3"
  },
  "language_info": {
   "codemirror_mode": {
    "name": "ipython",
    "version": 3
   },
   "file_extension": ".py",
   "mimetype": "text/x-python",
   "name": "python",
   "nbconvert_exporter": "python",
   "pygments_lexer": "ipython3",
   "version": "3.10.1"
  }
 },
 "nbformat": 4,
 "nbformat_minor": 5
}
