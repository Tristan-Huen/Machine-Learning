{
 "cells": [
  {
   "cell_type": "markdown",
   "id": "dfb7177a",
   "metadata": {},
   "source": [
    "# Multiple Linear Regression"
   ]
  },
  {
   "cell_type": "markdown",
   "id": "f329f3f2",
   "metadata": {},
   "source": [
    "Previously there was only one input/target variable. We now deal with the case with multiple target variables. We can write $x_j$ which represents the $j^{\\text{th}}$ feature or target variable and let $n$ be the number of features. To denote the features of the $i^{\\text{th}}$ training example we write $\\vec{x}\\,^{(i)}$. So $x_{j}^{(i)}$ represents the value of feature $j$ in training example $i$. For example $\\vec{x}\\,^{(2)} = [1,2,3]$ shows the value of the $j=3$ target variables in training set $i=2$. Note that for the rest of notes the vector arrow can be removed and thought of as a matrix quantity instead,"
   ]
  },
  {
   "cell_type": "markdown",
   "id": "88703605",
   "metadata": {},
   "source": [
    "## Model Representation"
   ]
  },
  {
   "cell_type": "markdown",
   "id": "9923d7ba",
   "metadata": {},
   "source": [
    "We can write our new model as the following:\n",
    "\n",
    "$$h_{\\theta}(x) = \\sum_{j=0}^{n}\\theta_j x_j$$\n",
    "\n",
    "We will instead use vectors for easier notation:\n",
    "\n",
    "$$h_{\\theta}(x) = \\vec{\\theta} \\cdot \\vec{x}$$\n",
    "\n",
    "This is a multiple linear regression model. The cost function is then\n",
    "\n",
    "$$J(\\theta)=\\frac{1}{2m}\\sum_{i=1}^{m}\\left(h_{\\theta}(\\vec{x}\\,^{(i)})-y^{(i)}\\right)^{2}$$"
   ]
  },
  {
   "cell_type": "markdown",
   "id": "89c9fb35",
   "metadata": {},
   "source": [
    "## Gradient Descent"
   ]
  },
  {
   "cell_type": "markdown",
   "id": "498f5a3d",
   "metadata": {},
   "source": [
    "We have the following:\n",
    "\n",
    "$$\n",
    "\\theta_j := \\theta_j - \\alpha \\frac{\\partial J(\\theta)}{\\partial \\theta_j}\n",
    "$$\n",
    "\n",
    "We can rewrite the first term to simplify notation\n",
    "\n",
    "$$\n",
    "\\vec{\\theta} := \\vec{\\theta} - \\alpha \\nabla J(\\theta)\n",
    "$$\n",
    "\n",
    "Computing the gradient and partial derivative gives\n",
    "$$\n",
    "\\vec{\\theta} := \\vec{\\theta} - \\frac{\\alpha}{m}\\sum_{i=1}^{m} \\left(h_{\\theta}(\\vec{x}^{\\,(i)})-y^{(i)}\\right)\\vec{x}^{\\,(i)}\n",
    "$$\n",
    "\n",
    "As mentioned before there are other types of gradient descent. One type is stochastic gradient descent and is written as follows:\n",
    "\n",
    "$$\n",
    "\\vec{\\theta} := \\vec{\\theta}- \\alpha\\left(h_{\\theta}(\\vec{x}^{\\,(i)})-y^{(i)}\\right)\\vec{x}^{\\,(i)}\n",
    "$$\n",
    "\n",
    "Stochastic gradient descent only uses one training example and then updates compared to batch gradient descent which goes over the whole training set before updating. It is typically used for large data sets as it is much faster. However, a tradeoff is the fact that it may never \"converge\" to the global minimum and the parameters will simply oscillate around it. Most of the time these values near the minimum are good enough. If the learning rate decreases to zero as the algorithm runs then it is possible for there to be convergence as this causes the oscillations will decrease.\n"
   ]
  },
  {
   "cell_type": "markdown",
   "id": "98166f2a",
   "metadata": {},
   "source": [
    "## The Normal Equation"
   ]
  },
  {
   "cell_type": "markdown",
   "id": "ffc2d9f5",
   "metadata": {},
   "source": [
    "For linear regression there is an alternate way to solve for the parameters. The normal equation allows a solution without iterations. It does not generalize to other learning algorithms and is slow for a large amount of features. This fact that the gradient descent may be faster than finding an exact solution can be seen throughout. Let $X$ be the matrix whose columns are of the $x_j$ quantities or\n",
    "\n",
    "$$\\mathbf{X} = \n",
    "\\begin{pmatrix}\n",
    " x^{(1)}_0 & x^{(1)}_1 & \\cdots & x^{(1)}_{n} \\\\ \n",
    " x^{(2)}_0 & x^{(2)}_1 & \\cdots & x^{(2)}_{n} \\\\\n",
    " \\cdots \\\\\n",
    " x^{(m)}_0 & x^{(m)}_1 & \\cdots & x^{(m)}_{n} \n",
    "\\end{pmatrix}\n",
    "$$\n",
    "\n",
    "Then,\n",
    "\n",
    "$$\\vec{\\theta} = (X^{T}X)^{-1}X^{T}\\vec{y}$$\n",
    "\n",
    "Note that it can be the case where $$X^{T}X$$ is non invertible. There is a fix for this but it will not be discussed."
   ]
  },
  {
   "cell_type": "markdown",
   "id": "724f213e-f236-4858-90dc-716110d4dd1b",
   "metadata": {},
   "source": [
    "## Probabilistic Interpretation"
   ]
  },
  {
   "cell_type": "markdown",
   "id": "dc5e8cb2-9a21-4bfb-a538-bca5f8577fdb",
   "metadata": {},
   "source": [
    "Assume the target variables and inputs can be written as\n",
    "\n",
    "$$y^{(i)} = \\vec{\\theta} \\cdot \\vec{x}\\,^{(i)} + \\varepsilon^{(i)}$$\n",
    "\n",
    "where $\\varepsilon^{(i)}$ is an error term. Next assume that the $\\varepsilon^{(i)}$ are distributed identically, independently, and normally with zero mean and variance $\\sigma^{2}$. We can write this as $\\varepsilon^{(i)} \\sim \\mathcal{N}(0,\\sigma^{2})$. Thus, the probability density of $\\varepsilon^{(i)}$ is given by\n",
    "\n",
    "$$p(\\varepsilon^{(i)}) = \\frac{1}{\\sqrt{2 \\pi}\\sigma} \\exp\\left(-\\frac{(\\varepsilon^{(i)})^2}{2\\sigma^{2}}\\right)$$\n",
    "\n",
    "which implies\n",
    "\n",
    "$$p(y^{(i)}|\\vec{x}\\,^{(i)};\\vec{\\theta})=\\frac{1}{\\sqrt{2 \\pi}\\sigma} \\exp\\left(-\\frac{(y^{(i)}-\\vec{\\theta} \\cdot \\vec{x}\\,^{(i)})^2}{2\\sigma^{2}}\\right)$$\n",
    "\n",
    "Note that since the $\\vec{\\theta}$ are not random variables we should not put it in the conditional. Given the matrix $X$ and $\\theta$ what is the distribution of the $y^{(i)}$'s? The probability of the data is given by $p(\\vec{y}|X;\\vec{\\theta})$. This is usually viewed as a function of $\\vec{y}$ (and possibly $X$) for a fixed value of $\\vec{\\theta}$. If we instead view it as a function $\\vec{\\theta}$ it is called the likelihood function (note we will drop the vector arrow on theta for simplicity):\n",
    "\n",
    "$$L(\\theta)=L(\\theta;X,\\vec{y})=(\\vec{y}|X;\\theta)$$\n",
    "\n",
    "By the previous assumption of the independence of $\\varepsilon^{(i)}$ we can also write this as \n",
    "\n",
    "$$L(\\theta)=\\prod_{i=1}^{m} p(y^{(i)}|\\vec{x}\\,^{(i)};\\theta) = \\prod_{i=1}^{m} \\frac{1}{\\sqrt{2 \\pi}\\sigma} \\exp\\left(-\\frac{(y^{(i)}-\\vec{\\theta} \\cdot \\vec{x}\\,^{(i)})^2}{2\\sigma^{2}}\\right)$$\n",
    "\n",
    "The principal of maximum likelihood says that we should choose $\\theta$ to make the data as high probability as possible (maximize $L(\\theta)$). We can also maximize any strictly increasing function of $L(\\theta)$. In particular we can instead maximize the log likelihood $\\ell(\\theta)$\n",
    "\n",
    "\\begin{align}\n",
    "\\ell(\\theta) &= \\ln(L(\\theta)) \\\\[6pt]\n",
    "&= \\ln \\prod_{i=1}^{m} \\frac{1}{\\sqrt{2 \\pi}\\sigma} \\exp\\left(-\\frac{(y^{(i)}-\\vec{\\theta} \\cdot \\vec{x}\\,^{(i)})^2}{2\\sigma^{2}}\\right)\\\\[6pt]\n",
    "& = \\sum_{i=1}^{m} \\ln \\frac{1}{\\sqrt{2 \\pi}\\sigma} \\exp\\left(-\\frac{(y^{(i)}-\\vec{\\theta} \\cdot \\vec{x}\\,^{(i)})^2}{2\\sigma^{2}}\\right) \\\\[6pt]\n",
    "&= \\sum_{i=1}^{m} \\ln \\frac{1}{\\sqrt{2 \\pi}\\sigma} + \\sum_{i=1}^{m} \\ln \\exp\\left(-\\frac{(y^{(i)}-\\vec{\\theta} \\cdot \\vec{x}\\,^{(i)})^2}{2\\sigma^{2}}\\right) \\\\[6pt]\n",
    "&= n\\ln\\frac{1}{\\sqrt{2 \\pi}\\sigma} - \\frac{1}{2\\sigma^2}\\sum_{i=1}^{m} (y^{(i)}-\\vec{\\theta} \\cdot \\vec{x}\\,^{(i)})^2\n",
    "\\end{align}\n",
    "\n",
    "So equivalently we must minimize\n",
    "\n",
    "$$\\frac{1}{2}\\sum_{i=1}^{m} (y^{(i)}-\\vec{\\theta} \\cdot \\vec{x}\\,^{(i)})^2$$\n",
    "\n",
    "which is our cost function $J(\\theta)$ (the sign in the bracket does not matter due to the square). Note that the $1/m$ is missing but this is only needed for reducing the cost function further and is not technically needed. So maximizing $\\ell(\\theta)$ is the same as minimizing $J(\\theta)$."
   ]
  },
  {
   "cell_type": "markdown",
   "id": "352f1b1d",
   "metadata": {},
   "source": [
    "## Code Example"
   ]
  },
  {
   "cell_type": "code",
   "execution_count": 1,
   "id": "a5378e97",
   "metadata": {},
   "outputs": [],
   "source": [
    "import math\n",
    "import numpy as np\n",
    "import matplotlib.pyplot as plt\n",
    "\n",
    "X_train = np.array([[1,2104, 5, 1, 45], [1,1416, 3, 2, 40], [1,852, 2, 1, 35]])\n",
    "y_train = np.array([460, 232, 178])\n",
    "w_init = np.zeros(5)\n",
    "iterations = 1000\n",
    "alpha = 5.0e-7"
   ]
  },
  {
   "cell_type": "markdown",
   "id": "6900f0dc",
   "metadata": {},
   "source": [
    "### Prediction"
   ]
  },
  {
   "cell_type": "code",
   "execution_count": 2,
   "id": "1eaa7d50",
   "metadata": {},
   "outputs": [],
   "source": [
    "def predict(x, w):\n",
    "    return np.dot(x,w)"
   ]
  },
  {
   "cell_type": "markdown",
   "id": "d10cb122",
   "metadata": {},
   "source": [
    "### Cost Function"
   ]
  },
  {
   "cell_type": "code",
   "execution_count": 3,
   "id": "9f597391",
   "metadata": {},
   "outputs": [],
   "source": [
    "def compute_cost(X,y,w):\n",
    "    m = X.shape[0]\n",
    "    cost = 0\n",
    "    \n",
    "    for i in range(m):\n",
    "        pred = predict(X[i],w)\n",
    "        cost += (pred-y[i])**2\n",
    "    \n",
    "    return cost / (2*m)"
   ]
  },
  {
   "cell_type": "markdown",
   "id": "f40b3715",
   "metadata": {},
   "source": [
    "### Gradient"
   ]
  },
  {
   "cell_type": "code",
   "execution_count": 4,
   "id": "b8307550",
   "metadata": {},
   "outputs": [],
   "source": [
    "def compute_gradient(X,y,w):\n",
    "    m,n = X.shape\n",
    "    dj_dw = np.zeros(n)\n",
    "    \n",
    "    for i in range(m):  \n",
    "        pred = predict(X[i],w) \n",
    "        err = pred - y[i]\n",
    "        for j in range(n):\n",
    "            dj_dw[j] += err * X[i,j] \n",
    "    dj_dw = dj_dw / m \n",
    "        \n",
    "    return dj_dw"
   ]
  },
  {
   "cell_type": "markdown",
   "id": "9bb34e0f",
   "metadata": {},
   "source": [
    "### Gradient Descent"
   ]
  },
  {
   "cell_type": "code",
   "execution_count": 5,
   "id": "dcb817f0",
   "metadata": {},
   "outputs": [],
   "source": [
    "def gradient_descent(X, y, w_in, alpha, num_iters, cost_function, gradient_function):\n",
    "    w = w_in\n",
    "    J_history = []\n",
    "    \n",
    "    for i in range(num_iters):\n",
    "        dj_dw = gradient_function(X, y, w)\n",
    "                                   \n",
    "        w = w - alpha * dj_dw\n",
    "        \n",
    "        if i<100000:      # prevent resource exhaustion \n",
    "            J_history.append( cost_function(X, y, w))\n",
    "        \n",
    "    print(J_history[-1])\n",
    "    return w, J_history"
   ]
  },
  {
   "cell_type": "code",
   "execution_count": 6,
   "id": "a59ad091-7dc3-4177-a3be-61d9aa79fa0c",
   "metadata": {},
   "outputs": [],
   "source": [
    "def stoch_grad_descent(X,y,w_in,alpha,num_iters,cost_function,compute_gradient):\n",
    "    m = X.shape[0]\n",
    "    w = w_in\n",
    "    J_history = []\n",
    "    \n",
    "    for iteration in range(num_iters):\n",
    "        for i in range(m):\n",
    "             dj_dw = 1/m * X[i] * (np.dot(X[i],w) - y[i]) #The 1/m gets rid of dependency on data set size\n",
    "             w = w - alpha * dj_dw\n",
    "        if iteration<100000:      # prevent resource exhaustion \n",
    "            J_history.append( cost_function(X, y, w))\n",
    "    \n",
    "    print(J_history[-1])\n",
    "    return w, J_history"
   ]
  },
  {
   "cell_type": "code",
   "execution_count": 7,
   "id": "9f94f02b",
   "metadata": {},
   "outputs": [
    {
     "name": "stdout",
     "output_type": "stream",
     "text": [
      "686.7034116665205\n",
      "h(w) found by gradient descent: w=[-0.00223541  0.20396569  0.00374919 -0.0112487  -0.0658614 ]\n"
     ]
    },
    {
     "data": {
      "image/png": "[encoded data removed]",
      "text/plain": [
       "<Figure size 864x288 with 2 Axes>"
      ]
     },
     "metadata": {
      "needs_background": "light"
     },
     "output_type": "display_data"
    }
   ],
   "source": [
    "w_final, J_hist = gradient_descent(X_train ,y_train, w_init, alpha, \n",
    "                                                    1000, compute_cost, compute_gradient)\n",
    "print(f\"h(w) found by gradient descent: w={w_final}\")\n",
    "\n",
    "# w_final, J_hist = stoch_grad_descent(X_train ,y_train, w_init, alpha, \n",
    "#                                                     1000, compute_cost, compute_gradient)\n",
    "# print(f\"h(w) found by stochastic gradient descent: w={w_final}\")\n",
    "\n",
    "fig, (ax1, ax2) = plt.subplots(1, 2, constrained_layout=True, figsize=(12, 4))\n",
    "ax1.plot(J_hist)\n",
    "ax2.plot(100 + np.arange(len(J_hist[100:])), J_hist[100:])\n",
    "ax1.set_title(\"Cost vs. iteration\");  ax2.set_title(\"Cost vs. iteration (tail)\")\n",
    "ax1.set_ylabel('Cost')             ;  ax2.set_ylabel('Cost') \n",
    "ax1.set_xlabel('iteration step')   ;  ax2.set_xlabel('iteration step') \n",
    "plt.show()"
   ]
  }
 ],
 "metadata": {
  "kernelspec": {
   "display_name": "Python 3 (ipykernel)",
   "language": "python",
   "name": "python3"
  },
  "language_info": {
   "codemirror_mode": {
    "name": "ipython",
    "version": 3
   },
   "file_extension": ".py",
   "mimetype": "text/x-python",
   "name": "python",
   "nbconvert_exporter": "python",
   "pygments_lexer": "ipython3",
   "version": "3.10.1"
  }
 },
 "nbformat": 4,
 "nbformat_minor": 5
}
