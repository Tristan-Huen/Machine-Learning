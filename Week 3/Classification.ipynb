{
 "cells": [
  {
   "cell_type": "markdown",
   "id": "c12be363",
   "metadata": {},
   "source": [
    "# Classification"
   ]
  },
  {
   "cell_type": "markdown",
   "id": "726b84b8",
   "metadata": {},
   "source": [
    "As previously discussed, classification involves and output $y$ which can only be a finite number of values. For the case where $y$ can only be 2 values (classes/categories) this is called binary classification. For this the classes are usually denoted by false and true or 0 and 1. The false class and true class are usually called the negative class and positive class respectively. \n",
    "\n",
    "For classification linear regression is not useful as it cannot correctly model the behaviour. Instead we can use logistic regression. "
   ]
  },
  {
   "cell_type": "markdown",
   "id": "ef3710a0",
   "metadata": {},
   "source": [
    "## Logistic Regression"
   ]
  },
  {
   "cell_type": "markdown",
   "id": "45660cc1",
   "metadata": {},
   "source": [
    "We can use the sigmoid function as a way to model classifcation. It is defined as\n",
    "\n",
    "$$g(z) = \\frac{1}{1+e^{-z}}$$\n",
    "\n",
    "Notably g(z) is bounded between 0 and 1. To construct the logistic regression model we do the following\n",
    "\n",
    "$$h_{\\theta}(\\vec{x})=g(\\theta^{T}x) = \\frac{1}{1+e^{-(\\theta^{T}x)}}$$\n",
    "\n",
    "The output can be thought of as the probability that the class is 1 or \n",
    "\n",
    "$$h_{\\theta}(\\vec{x}) = P(y=1 | \\vec{x} ; \\vec{\\theta})$$\n",
    "$$1-h_{\\theta}(\\vec{x}) = P(y=0 | \\vec{x} ; \\vec{\\theta})$$\n",
    "\n",
    "where the semicolon simply lists the parameters (fixed quantities not random variables). Even more compactly\n",
    "\n",
    "$$p_(y | \\vec{x} ; \\vec{\\theta}) = \\left(h_{\\theta}(\\vec{x})\\right)^{y}\\left(1-h_{\\theta}(\\vec{x})\\right)^{1-y}$$"
   ]
  },
  {
   "cell_type": "markdown",
   "id": "afa89053-970d-40fa-9be6-06bf5c34b451",
   "metadata": {},
   "source": [
    "## Decision Boundary"
   ]
  },
  {
   "cell_type": "markdown",
   "id": "0099594e-1008-41f7-be4a-a5422aeeba40",
   "metadata": {},
   "source": [
    "The threshold is set in order to determine whether the output will be assigned a 1 or 0. This can be as simple as 0.5 which means that $\\vec{w}\\cdot \\vec{x} + b = 0$. This equation produces a boundary curve called the decision boundary which determines whether y=0 or y=1. Inside and outside are represent each of the respective cases. This decision boundary can be a line, circle, or a complex shape depending on the features and its parameters."
   ]
  },
  {
   "cell_type": "markdown",
   "id": "70a2a4e9-2957-4dad-a8e8-c8c636103815",
   "metadata": {},
   "source": [
    "## Cost Function for Logistic Function"
   ]
  },
  {
   "cell_type": "markdown",
   "id": "dce978d8-e3c2-4c50-8510-c1030d7fef8c",
   "metadata": {},
   "source": [
    "One may think the cost function can simply use the MSE like linear regression:\n",
    "\n",
    "$$J(\\theta)=\\frac{1}{2m}\\sum_{i=1}^{m}\\left(h_{\\theta}(\\vec{x}\\,^{(i)})-y^{(i)}\\right)^{2}$$\n",
    "\n",
    "However, the resulting curve will be one which has multiple local minima and thus non-convex. To fix this we will introduce a better cost function. We will write our cost function in the following form:\n",
    "\n",
    "$$J(\\theta)=\\frac{1}{m}\\sum_{i=1}^{m}\\mathcal{L}\\left(h_{\\theta}(\\vec{x}\\,^{(i)}),y^{(i)}\\right)$$\n",
    "\n",
    "where $\\mathcal{L}$ is the logistic loss function. We can write the logistic loss function as\n",
    "\n",
    "$$\n",
    "\\mathcal{L}\\left(h_{\\theta}(\\vec{x}\\,^{(i)}),y^{(i)}\\right)=\\begin{cases}-\\ln\\left(h_{\\theta}(\\vec{x}\\,^{(i)})\\right) & \\text{if } y^{(i)}=1 \\\\ -\\ln\\left(1-h_{\\theta}(\\vec{x}\\,^{(i)})\\right) & \\text{if } y^{(i)}=0 \\end{cases}\n",
    "$$\n",
    "\n",
    "One can confirm that this function is convex. We can also rewrite this as\n",
    "\n",
    "$$\\mathcal{L}\\left(h_{\\theta}(\\vec{x}\\,^{(i)}),y^{(i)}\\right)= -y^{(i)}\\ln\\left(h_{\\theta}(\\vec{x}\\,^{(i)})\\right) - (1-y^{(i)})\\ln\\left(1-h_{\\theta}(\\vec{x}\\,^{(i)})\\right)$$\n",
    "\n",
    "and inserting this into our cost function gives\n",
    "\n",
    "$$J(\\theta)=-\\frac{1}{m}\\sum_{i=1}^{m}\\left[y^{(i)}\\ln\\left(h_{\\theta}(\\vec{x}\\,^{(i)})\\right) + (1-y^{(i)})\\ln\\left(1-h_{\\theta}(\\vec{x}\\,^{(i)})\\right)\\right]$$\n",
    "\n",
    "This loss function can be derived from using maximum likelihood estimation. Recall that \n",
    "\n",
    "$$p_(y | \\vec{x} ; \\vec{\\theta}) = \\left(h_{\\theta}(\\vec{x})\\right)^{y}\\left(1-h_{\\theta}(\\vec{x})\\right)^{1-y}$$\n",
    "\n",
    "and \n",
    "\n",
    "$$L(\\theta)=\\prod_{i=1}^{m} p(y^{(i)}|\\vec{x}\\,^{(i)};\\theta)= \\prod_{i=1}^{m} \\left(h_{\\theta}(\\vec{x}\\,^{(i)})\\right)^{y\\,^{(i)}}\\left(1-h_{\\theta}(\\vec{x}\\,^{(i)})\\right)^{1-y\\,^{(i)}}$$\n",
    "\n",
    "Computing the $\\ell(\\theta)$ we have,\n",
    "\n",
    "\\begin{align}\n",
    "\\ell(\\theta) = \\ln L(\\theta) &= \\ln \\prod_{i=1}^{m} \\left(h_{\\theta}(\\vec{x}\\,^{(i)})\\right)^{y\\,^{(i)}}\\left(1-h_{\\theta}(\\vec{x}\\,^{(i)})\\right)^{1-y\\,^{(i)}} \\\\[3pt]\n",
    "&= \\sum_{i=1}^{m} \\ln\\left(h_{\\theta}(\\vec{x}\\,^{(i)})\\right)^{y\\,^{(i)}}\\left(1-h_{\\theta}(\\vec{x}\\,^{(i)})\\right)^{1-y\\,^{(i)}} \\\\[3pt]\n",
    "&= \\sum_{i=1}^{m} \\left[y^{(i)}\\ln\\left(h_{\\theta}(\\vec{x}\\,^{(i)})\\right) + (1-y^{(i)})\\ln\\left(1-h_{\\theta}(\\vec{x}\\,^{(i)})\\right)\\right]\n",
    "\\end{align}"
   ]
  },
  {
   "cell_type": "markdown",
   "id": "0b8f507a-868c-4e00-8c06-792f39482406",
   "metadata": {},
   "source": [
    "## Gradient Descent"
   ]
  },
  {
   "cell_type": "markdown",
   "id": "eb2a7925-a830-40f5-a183-acfad1e64ba9",
   "metadata": {},
   "source": [
    "One can derive the gradient descent of the cost function and find that \n",
    "\n",
    "$$\\vec{\\theta} := \\vec{\\theta} - \\frac{\\alpha}{m}\\sum_{i=1}^{m} \\left(h_{\\theta}(\\vec{x}^{\\,(i)})-y^{(i)}\\right)\\vec{x}^{\\,(i)}$$\n",
    "\n",
    "which is the exact same form as the multiple linear regression (only difference being that $h_{\\theta}$ is non-linear). The reason for this similarity is due to both being cases of a generalized linear model (GLM). The stochastic gradient descent has the same form as well."
   ]
  },
  {
   "cell_type": "markdown",
   "id": "2c625b69-3ec1-41be-9e37-4bf030faf450",
   "metadata": {},
   "source": [
    "## Newton's Method"
   ]
  },
  {
   "cell_type": "markdown",
   "id": "35d4d192-d108-4080-92e2-6405bdfdfef1",
   "metadata": {},
   "source": [
    "There exists another way to maximize $\\ell(\\theta)$ and that is by using Newton's Method in the following way. Assume $\\theta \\in \\mathbb{R}$, then:\n",
    "\n",
    "$$\\theta := \\theta - \\frac{\\ell'(\\theta)}{\\ell''(\\theta)}$$\n",
    "\n",
    "To generalize to $\\vec{\\theta}$ we write\n",
    "\n",
    "$$\\vec{\\theta} := \\vec{\\theta} - H^{-1}\\nabla\\ell(\\theta)$$\n",
    "\n",
    "where $H$ is the $n+1$-by-$n+1$ Hessian matrix such that\n",
    "\n",
    "$$H_{ij} = \\frac{\\partial^2 \\ell(\\theta)}{\\partial \\theta_{i} \\partial \\theta_{j}}$$\n",
    "\n",
    "Newton's method converges quadratically and is typically faster than batch gradient descent. However if $n$ is large then it can be much slower since the Hessian matrix must be found and inverted. This type of method of using Newton's method to numerically find the maximum-likelihood is called a scoring algorithm or Fisher's scoring."
   ]
  },
  {
   "cell_type": "markdown",
   "id": "16ce9354-3871-41c0-84cb-06ffd500db9e",
   "metadata": {},
   "source": [
    "## Code Example"
   ]
  },
  {
   "cell_type": "markdown",
   "id": "b6d07ac2-7886-4993-9376-5f3805a8fd0a",
   "metadata": {},
   "source": [
    "The following uses a training set that classifies whether a person will suffer a heart attack based on 13 features/attributes"
   ]
  },
  {
   "cell_type": "code",
   "execution_count": 34,
   "id": "fa08e2e5-d557-4c8a-b63e-20d1a1cf39cf",
   "metadata": {},
   "outputs": [],
   "source": [
    "import numpy as np\n",
    "import matplotlib.pyplot as plt\n",
    "import math\n",
    "import pandas as pd\n",
    "\n",
    "df = pd.read_csv(\"heart.csv\")\n",
    "data = df.to_numpy(dtype=float)\n",
    "\n",
    "X_train = data[:, :-1]\n",
    "y_train = data[:, -1]\n",
    "\n",
    "#Feature scaling which will increase our mean accuracy from 72% to 85% (experimented with this) and faster convergence\n",
    "mu     = np.mean(X_train,axis=0)   \n",
    "sigma  = np.std(X_train,axis=0) \n",
    "X_mean = (X_train - mu)\n",
    "X_norm = (X_train - mu)/sigma \n",
    "X_norm = np.c_[np.ones(X_norm.shape[0]),X_norm] #Avoids divide by zeros by adding the intercept terms in after feature scaling\n",
    "w_init = np.zeros(X_norm.shape[1])\n",
    "iterations = 1000"
   ]
  },
  {
   "cell_type": "markdown",
   "id": "34b2a049-aec0-4ecb-a4c7-85f4fe678f6e",
   "metadata": {},
   "source": [
    "### Prediction"
   ]
  },
  {
   "cell_type": "code",
   "execution_count": 35,
   "id": "e5785d0c-4b78-4dc1-8372-a058f9756fd3",
   "metadata": {},
   "outputs": [],
   "source": [
    "def sigmoid(z):\n",
    "    return 1/(1+np.exp(-z))\n",
    "\n",
    "def predict(x,w):\n",
    "    return sigmoid(np.dot(x,w))"
   ]
  },
  {
   "cell_type": "markdown",
   "id": "53e9e85c-6b89-45ad-914b-32230c9de284",
   "metadata": {},
   "source": [
    "### Cost Function"
   ]
  },
  {
   "cell_type": "code",
   "execution_count": 36,
   "id": "515d54ab-5a21-46ba-bdc1-dc65999313e0",
   "metadata": {},
   "outputs": [],
   "source": [
    "def compute_cost(X,y,w):\n",
    "    m = X.shape[0]\n",
    "    cost = 0\n",
    "    \n",
    "    for i in range(m):\n",
    "        pred = predict(X[i],w)\n",
    "        cost += y[i] * math.log(pred) + (1-y[i]) * math.log(1-pred)\n",
    "    \n",
    "    return cost / (-m)"
   ]
  },
  {
   "cell_type": "markdown",
   "id": "969ab147-7ed1-4fa1-85f4-6363030ad0ed",
   "metadata": {},
   "source": [
    "### Gradient"
   ]
  },
  {
   "cell_type": "code",
   "execution_count": 37,
   "id": "e2b7e501-4893-49d0-b351-de2d2c0ffa80",
   "metadata": {},
   "outputs": [],
   "source": [
    "def compute_gradient(X,y,w):\n",
    "    m,n = X.shape\n",
    "    dj_dw = np.zeros(n)\n",
    "    \n",
    "    for i in range(m):  \n",
    "        pred = predict(X[i],w) \n",
    "        err = pred - y[i]\n",
    "        for j in range(n):\n",
    "            dj_dw[j] += err * X[i,j] \n",
    "    dj_dw = dj_dw / m \n",
    "        \n",
    "    return dj_dw"
   ]
  },
  {
   "cell_type": "markdown",
   "id": "e01bcb4e-51c8-4571-812e-b4343acab600",
   "metadata": {},
   "source": [
    "### Gradient Descent"
   ]
  },
  {
   "cell_type": "code",
   "execution_count": 38,
   "id": "ec97a814-a9a4-41d5-9964-d135208b12a4",
   "metadata": {},
   "outputs": [],
   "source": [
    "def gradient_descent(X, y, w_in, alpha, num_iters, cost_function, gradient_function):\n",
    "    w = w_in\n",
    "    J_history = []\n",
    "    \n",
    "    for i in range(num_iters):\n",
    "        dj_dw = gradient_function(X, y, w)\n",
    "                                   \n",
    "        w = w - alpha * dj_dw\n",
    "        \n",
    "        if i<100000:      # prevent resource exhaustion \n",
    "            J_history.append(cost_function(X, y, w))\n",
    "        \n",
    "    return w, J_history"
   ]
  },
  {
   "cell_type": "code",
   "execution_count": 39,
   "id": "3ddd61b0-8607-45de-8b51-3397f9860f8b",
   "metadata": {},
   "outputs": [],
   "source": [
    "w_final, J_hist = gradient_descent(X_norm, y_train, w_init, 5e-2, iterations, compute_cost, compute_gradient)"
   ]
  },
  {
   "cell_type": "code",
   "execution_count": 40,
   "id": "97c1cfcf-63ae-442f-92d1-45263c783b9e",
   "metadata": {},
   "outputs": [
    {
     "name": "stdout",
     "output_type": "stream",
     "text": [
      "0.8514851485148515\n"
     ]
    },
    {
     "data": {
      "image/png": "[encoded data removed]",
      "text/plain": [
       "<Figure size 864x288 with 2 Axes>"
      ]
     },
     "metadata": {
      "needs_background": "light"
     },
     "output_type": "display_data"
    }
   ],
   "source": [
    "y_predict = []\n",
    "for i in range(X_train.shape[0]):\n",
    "    y_predict.append(predict(X_norm[i],w_final))\n",
    "    \n",
    "y_predict = np.array(y_predict)\n",
    "y_predict = np.round(y_predict)\n",
    "print((y_predict == y_train).mean())\n",
    "\n",
    "fig, (ax1, ax2) = plt.subplots(1, 2, constrained_layout=True, figsize=(12, 4))\n",
    "ax1.plot(J_hist)\n",
    "ax2.plot(100 + np.arange(len(J_hist[100:])), J_hist[100:])\n",
    "ax1.set_title(\"Cost vs. iteration\");  ax2.set_title(\"Cost vs. iteration (tail)\")\n",
    "ax1.set_ylabel('Cost')             ;  ax2.set_ylabel('Cost') \n",
    "ax1.set_xlabel('iteration step')   ;  ax2.set_xlabel('iteration step') \n",
    "plt.show()"
   ]
  },
  {
   "cell_type": "markdown",
   "id": "66706902-6e90-4321-85fc-d95fbec13eb5",
   "metadata": {},
   "source": [
    "The accuracy is confirmed to be good as seen by the below implementation using scikit-learn. Note that feature scaling is extremely important here and without it the accuracy would have been much worse along with poor convergence. Also note that the learning rate will change due to the feature scaling."
   ]
  },
  {
   "cell_type": "code",
   "execution_count": 41,
   "id": "acff24bb-e91b-4313-9978-9c78c50505c1",
   "metadata": {},
   "outputs": [
    {
     "ename": "ModuleNotFoundError",
     "evalue": "No module named 'sklearn'",
     "output_type": "error",
     "traceback": [
      "\u001b[1;31m---------------------------------------------------------------------------\u001b[0m",
      "\u001b[1;31mModuleNotFoundError\u001b[0m                       Traceback (most recent call last)",
      "Input \u001b[1;32mIn [41]\u001b[0m, in \u001b[0;36m<module>\u001b[1;34m\u001b[0m\n\u001b[1;32m----> 1\u001b[0m \u001b[38;5;28;01mfrom\u001b[39;00m \u001b[38;5;21;01msklearn\u001b[39;00m\u001b[38;5;21;01m.\u001b[39;00m\u001b[38;5;21;01mlinear_model\u001b[39;00m \u001b[38;5;28;01mimport\u001b[39;00m LogisticRegression\n\u001b[0;32m      3\u001b[0m lr_model \u001b[38;5;241m=\u001b[39m LogisticRegression()\n\u001b[0;32m      4\u001b[0m lr_model\u001b[38;5;241m.\u001b[39mfit(X_train, y_train)\n",
      "\u001b[1;31mModuleNotFoundError\u001b[0m: No module named 'sklearn'"
     ]
    }
   ],
   "source": [
    "from sklearn.linear_model import LogisticRegression\n",
    "\n",
    "lr_model = LogisticRegression()\n",
    "lr_model.fit(X_train, y_train)\n",
    "\n",
    "print(lr_model.score(X_train, y_train))"
   ]
  },
  {
   "cell_type": "code",
   "execution_count": null,
   "id": "5a9f5174-4ccc-46d5-bffc-121260026090",
   "metadata": {},
   "outputs": [],
   "source": []
  }
 ],
 "metadata": {
  "custom": {
   "mathjax_font": "TeX"
  },
  "kernelspec": {
   "display_name": "Python 3 (ipykernel)",
   "language": "python",
   "name": "python3"
  },
  "language_info": {
   "codemirror_mode": {
    "name": "ipython",
    "version": 3
   },
   "file_extension": ".py",
   "mimetype": "text/x-python",
   "name": "python",
   "nbconvert_exporter": "python",
   "pygments_lexer": "ipython3",
   "version": "3.10.1"
  }
 },
 "nbformat": 4,
 "nbformat_minor": 5
}
